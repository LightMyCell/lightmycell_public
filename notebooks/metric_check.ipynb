{
 "cells": [
  {
   "cell_type": "code",
   "execution_count": 1,
   "id": "2fcab287-13f7-4190-8c0a-5733ecda6f3d",
   "metadata": {},
   "outputs": [],
   "source": [
    "import numpy as np"
   ]
  },
  {
   "cell_type": "code",
   "execution_count": 2,
   "id": "f5d0a4e5-196f-4fd2-9e70-f05073f7d0eb",
   "metadata": {},
   "outputs": [],
   "source": [
    "data = np.load('/media/local-admin/lightmycells/Study_patches_s_3/tools/metrics/MAE_train_0.npy')"
   ]
  },
  {
   "cell_type": "code",
   "execution_count": 4,
   "id": "c9f7a53b-945a-4e26-967b-d470f32d86b1",
   "metadata": {},
   "outputs": [
    {
     "data": {
      "text/plain": [
       "0.2274488397568353"
      ]
     },
     "execution_count": 4,
     "metadata": {},
     "output_type": "execute_result"
    }
   ],
   "source": [
    "data.mean()"
   ]
  }
 ],
 "metadata": {
  "kernelspec": {
   "display_name": "Python 3 (ipykernel)",
   "language": "python",
   "name": "python3"
  },
  "language_info": {
   "codemirror_mode": {
    "name": "ipython",
    "version": 3
   },
   "file_extension": ".py",
   "mimetype": "text/x-python",
   "name": "python",
   "nbconvert_exporter": "python",
   "pygments_lexer": "ipython3",
   "version": "3.11.5"
  }
 },
 "nbformat": 4,
 "nbformat_minor": 5
}
